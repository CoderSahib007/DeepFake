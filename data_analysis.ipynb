{
 "cells": [
  {
   "cell_type": "code",
   "execution_count": 1,
   "metadata": {},
   "outputs": [],
   "source": [
    "import pandas as pd\n",
    "import os"
   ]
  },
  {
   "cell_type": "code",
   "execution_count": 2,
   "metadata": {},
   "outputs": [],
   "source": [
    "os.chdir(\"../../\")"
   ]
  },
  {
   "cell_type": "code",
   "execution_count": 3,
   "metadata": {},
   "outputs": [
    {
     "data": {
      "text/plain": [
       "'d:\\\\DeepFakeClassification'"
      ]
     },
     "execution_count": 3,
     "metadata": {},
     "output_type": "execute_result"
    }
   ],
   "source": [
    "os.getcwd()"
   ]
  },
  {
   "cell_type": "code",
   "execution_count": 6,
   "metadata": {},
   "outputs": [],
   "source": [
    "df=pd.read_csv(\"archive/KAGGLE/DATASET-balanced.csv\",sep=',')"
   ]
  },
  {
   "cell_type": "code",
   "execution_count": 9,
   "metadata": {},
   "outputs": [
    {
     "data": {
      "text/plain": [
       "(11778, 27)"
      ]
     },
     "execution_count": 9,
     "metadata": {},
     "output_type": "execute_result"
    }
   ],
   "source": [
    "df.shape"
   ]
  },
  {
   "cell_type": "code",
   "execution_count": 15,
   "metadata": {},
   "outputs": [
    {
     "data": {
      "text/plain": [
       "56"
      ]
     },
     "execution_count": 15,
     "metadata": {},
     "output_type": "execute_result"
    }
   ],
   "source": [
    "len(os.listdir('./archive/KAGGLE/AUDIO/FAKE'))"
   ]
  },
  {
   "cell_type": "code",
   "execution_count": 16,
   "metadata": {},
   "outputs": [
    {
     "data": {
      "text/plain": [
       "8"
      ]
     },
     "execution_count": 16,
     "metadata": {},
     "output_type": "execute_result"
    }
   ],
   "source": [
    "len(os.listdir('./archive/KAGGLE/AUDIO/REAL'))"
   ]
  },
  {
   "cell_type": "code",
   "execution_count": 24,
   "metadata": {},
   "outputs": [],
   "source": [
    "import os\n",
    "import wave"
   ]
  },
  {
   "cell_type": "code",
   "execution_count": 28,
   "metadata": {},
   "outputs": [],
   "source": [
    "def find_duration(directory):\n",
    "    total_duration = 0\n",
    "    for filename in os.listdir(directory):\n",
    "        file_path = os.path.join(directory, filename)\n",
    "\n",
    "        if file_path.endswith(\".wav\") and os.path.isfile(file_path):  # Ensure it's a WAV file\n",
    "            try:\n",
    "                with wave.open(file_path, 'r') as audio_file:\n",
    "                    frames = audio_file.getnframes()\n",
    "                    rate = audio_file.getframerate()\n",
    "                    duration = frames / float(rate)\n",
    "                    total_duration += duration\n",
    "            except Exception as e:\n",
    "                print(f\"Error processing {file_path}: {e}\")\n",
    "\n",
    "    print(f\"Total duration of all WAV files: {total_duration/3600} hours\")"
   ]
  },
  {
   "cell_type": "code",
   "execution_count": 29,
   "metadata": {},
   "outputs": [
    {
     "name": "stdout",
     "output_type": "stream",
     "text": [
      "Total duration of all WAV files: 7.279096031746032 hours\n"
     ]
    }
   ],
   "source": [
    "find_duration('./archive/KAGGLE/AUDIO/FAKE')\n"
   ]
  },
  {
   "cell_type": "code",
   "execution_count": null,
   "metadata": {},
   "outputs": [
    {
     "name": "stdout",
     "output_type": "stream",
     "text": [
      "Total duration of all WAV files: 1.0402023446948225 hours\n"
     ]
    }
   ],
   "source": [
    "find_duration('./archive/KAGGLE/AUDIO/REAL')"
   ]
  },
  {
   "cell_type": "code",
   "execution_count": 32,
   "metadata": {},
   "outputs": [
    {
     "name": "stderr",
     "output_type": "stream",
     "text": [
      "e:\\Python\\Lib\\site-packages\\pydub\\utils.py:170: RuntimeWarning: Couldn't find ffmpeg or avconv - defaulting to ffmpeg, but may not work\n",
      "  warn(\"Couldn't find ffmpeg or avconv - defaulting to ffmpeg, but may not work\", RuntimeWarning)\n"
     ]
    }
   ],
   "source": [
    "import os\n",
    "import random\n",
    "import pandas as pd\n",
    "from pydub import AudioSegment"
   ]
  },
  {
   "cell_type": "code",
   "execution_count": 53,
   "metadata": {},
   "outputs": [],
   "source": [
    "input_dir = \"./archive/KAGGLE/AUDIO/REAL\"\n",
    "output_dir = \"./archive/KAGGLE/AUDIO/BROKEN_REAL\"\n",
    "manifest_path = os.path.join(output_dir, \"manifest.csv\")"
   ]
  },
  {
   "cell_type": "code",
   "execution_count": 54,
   "metadata": {},
   "outputs": [
    {
     "name": "stdout",
     "output_type": "stream",
     "text": [
      "Processing complete! Manifest saved at: ./archive/KAGGLE/AUDIO/BROKEN_REAL\\manifest.csv\n"
     ]
    }
   ],
   "source": [
    "# Ensure output directory exists\n",
    "os.makedirs(output_dir, exist_ok=True)\n",
    "\n",
    "# Initialize manifest data\n",
    "manifest_data = []\n",
    "\n",
    "# Process each WAV file\n",
    "for file_name in os.listdir(input_dir):\n",
    "    if file_name.endswith(\".wav\"):\n",
    "        file_path = os.path.join(input_dir, file_name)\n",
    "        audio = AudioSegment.from_wav(file_path)\n",
    "        duration = len(audio) / 1000  # Convert to seconds\n",
    "\n",
    "        start_time = 0\n",
    "        segment_count = 1\n",
    "\n",
    "        while start_time + 4 <= duration:\n",
    "            segment_length = random.randint(4, 10)  # Random segment length (4-10 sec)\n",
    "            end_time = min(start_time + segment_length, duration)\n",
    "\n",
    "            # Ensure the last segment is at least 4 sec\n",
    "            if duration - end_time < 4:\n",
    "                break\n",
    "\n",
    "            # Extract segment\n",
    "            segment = audio[start_time * 1000:end_time * 1000]\n",
    "\n",
    "            # Save new segment\n",
    "            segment_file_name = f\"{os.path.splitext(file_name)[0]}_part{segment_count}.wav\"\n",
    "            segment_output_path = os.path.join(output_dir, segment_file_name)\n",
    "            segment.export(segment_output_path, format=\"wav\")\n",
    "\n",
    "            # Store absolute path and duration\n",
    "            absolute_path = os.path.abspath(segment_output_path)\n",
    "            segment_duration = end_time - start_time  # Duration of this segment\n",
    "            manifest_data.append([absolute_path, segment_duration])\n",
    "\n",
    "            # Move to next segment\n",
    "            start_time = end_time\n",
    "            segment_count += 1\n",
    "\n",
    "# Save manifest (with absolute file paths and durations)\n",
    "df = pd.DataFrame(manifest_data, columns=[\"audio_path\", \"duration\"])\n",
    "df.to_csv(manifest_path, index=False)\n",
    "\n",
    "print(\"Processing complete! Manifest saved at:\", manifest_path)"
   ]
  },
  {
   "cell_type": "code",
   "execution_count": 55,
   "metadata": {},
   "outputs": [],
   "source": [
    "fake=pd.read_csv('./archive/KAGGLE/AUDIO/BROKEN_FAKE/manifest.csv')\n",
    "real=pd.read_csv('./archive/KAGGLE/AUDIO/BROKEN_REAL/manifest.csv')"
   ]
  },
  {
   "cell_type": "code",
   "execution_count": 56,
   "metadata": {},
   "outputs": [],
   "source": [
    "import random"
   ]
  },
  {
   "cell_type": "code",
   "execution_count": 57,
   "metadata": {},
   "outputs": [],
   "source": [
    "# Function to sample 10 minutes worth of audio files\n",
    "def sample_10_minutes(df):\n",
    "    sampled_files = []\n",
    "    total_duration = 0\n",
    "    \n",
    "    # Shuffle dataframe to ensure randomness\n",
    "    df = df.sample(frac=1).reset_index(drop=True)\n",
    "\n",
    "    for _, row in df.iterrows():\n",
    "        if total_duration + row['duration'] > 600:  # 10 min = 600 sec\n",
    "            continue\n",
    "        sampled_files.append(row)\n",
    "        total_duration += row['duration']\n",
    "        \n",
    "        # Stop if 10 min is reached\n",
    "        if total_duration >= 600:\n",
    "            break\n",
    "\n",
    "    return pd.DataFrame(sampled_files)"
   ]
  },
  {
   "cell_type": "code",
   "execution_count": 58,
   "metadata": {},
   "outputs": [],
   "source": [
    "# Sample from fake and real datasets\n",
    "fake_sampled = sample_10_minutes(fake)\n",
    "real_sampled = sample_10_minutes(real)"
   ]
  },
  {
   "cell_type": "code",
   "execution_count": 59,
   "metadata": {},
   "outputs": [],
   "source": [
    "# Add labels (1 for fake, 0 for real)\n",
    "fake_sampled['label'] = 1\n",
    "real_sampled['label'] = 0"
   ]
  },
  {
   "cell_type": "code",
   "execution_count": 60,
   "metadata": {},
   "outputs": [],
   "source": [
    "final_df = pd.concat([fake_sampled, real_sampled]).sample(frac=1).reset_index(drop=True)\n",
    "final_df.to_csv('./archive/KAGGLE/AUDIO/COMBINED_MANIFEST.csv', index=False)"
   ]
  },
  {
   "cell_type": "code",
   "execution_count": null,
   "metadata": {},
   "outputs": [],
   "source": []
  }
 ],
 "metadata": {
  "kernelspec": {
   "display_name": "Python 3",
   "language": "python",
   "name": "python3"
  },
  "language_info": {
   "codemirror_mode": {
    "name": "ipython",
    "version": 3
   },
   "file_extension": ".py",
   "mimetype": "text/x-python",
   "name": "python",
   "nbconvert_exporter": "python",
   "pygments_lexer": "ipython3",
   "version": "3.12.8"
  }
 },
 "nbformat": 4,
 "nbformat_minor": 2
}
